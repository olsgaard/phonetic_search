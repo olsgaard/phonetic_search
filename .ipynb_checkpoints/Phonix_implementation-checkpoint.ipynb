{
 "cells": [
  {
   "cell_type": "markdown",
   "metadata": {},
   "source": [
    "## Phonix and Soundex Python implementation\n",
    "This is an implementation of the phonix phonetic search algorith [1,2]. This follows the perl[3] and [4] C implementations.\n",
    "\n",
    "This is an expansion of the soundex algorithm. It is fairly complex, consisting of about 100-160 rules (several rules can be collapsed if they are described using regular expressions. This causes wildly different reports on the number of rules in the litterature)\n",
    "\n",
    "The main jist of the algorithm is that rules based phonetic spelling is applied to the string, after which the initial character is saved and all other characters are represented by a numeric value depending on which of 8 groups it belongs to. Finally the 0-group is pruned.\n",
    "\n",
    "Group numbers and letters are stored in `groups` list, while substitution rules are saved as regular expressions in the `rules` list.\n",
    "\n",
    "Phonix is the same as soundex, only with different groups and a pre-processing step that applies the rules.\n",
    "\n",
    "---\n",
    "\n",
    "1. Gadd, T. N. “‘Fisching Fore Werds’: Phonetic Retrieval of Written Text in Information Systems.” Program 22, no. 3 (1988): 222–37.\n",
    "2. ———. “PHONIX: The Algorithm.” Program 24, no. 4 (1990): 363–66.\n",
    "3. https://github.com/maros/Text-Phonetic/blob/master/lib/Text/Phonetic/Phonix.pm\n",
    "4. soundex.c in [freeWAIS-sf-2.2.10.tar.gz](https://github.com/walkingintopeople/freeWAIS/raw/master/wais/freeWAIS-sf-2.2/freeWAIS-sf-2.2.10.tar.gz)\n"
   ]
  },
  {
   "cell_type": "code",
   "execution_count": 1,
   "metadata": {
    "collapsed": false
   },
   "outputs": [
    {
     "name": "stdout",
     "output_type": "stream",
     "text": [
      "Using matplotlib backend: Qt4Agg\n",
      "Populating the interactive namespace from numpy and matplotlib\n"
     ]
    }
   ],
   "source": [
    "import re\n",
    "%pylab"
   ]
  },
  {
   "cell_type": "code",
   "execution_count": 11,
   "metadata": {
    "collapsed": false
   },
   "outputs": [
    {
     "name": "stdout",
     "output_type": "stream",
     "text": [
      "\n"
     ]
    }
   ],
   "source": [
    "# init variables and rules\n",
    "\n",
    "vowel = '[AEIOU]';\n",
    "consonant = '[BCDFGHJLMNPQRSTVXZXY]';\n",
    "\n",
    "\n",
    "\n",
    "# Define the letter groups\n",
    "\n",
    "                # ABCDEFGHIJKLMNOPQRSTUVWXYZ\n",
    "phonix_digits =  '01230720022455012683070808'\n",
    "soundex_digits = '01230120022455012623010202'\n",
    "\n",
    "\n",
    "\n",
    "# list of transformation/substitution rules\n",
    "#            [pattern, substitution]\n",
    "\n",
    "rules = [    [re.compile(r'DG'),    r'G'],\n",
    "             [re.compile(r'C([OAU])'),    r'K'],  # Covers several rules in soundex.c [CO, CA, CU]\n",
    "             [re.compile(r'C[YI]'),    r'SI'],      # Covers [CY, CI]\n",
    "             [re.compile(r'CE'),    r'SE'],\n",
    "             [re.compile(r'^CL(?={})'.format(vowel) ),    r'KL1'],\n",
    "             [re.compile(r'CK'),    r'K'],\n",
    "             [re.compile(r'[GJ]C$'),    r'K'],\n",
    "             [re.compile(r'^CH?R(?={})'.format(vowel)),    r'KR1'],\n",
    "             [re.compile(r'^WR'),    r'R'],\n",
    "             [re.compile(r'NC'),    r'NK'],\n",
    "             [re.compile(r'CT'),    r'KT'],\n",
    "             [re.compile(r'PH'),    r'F'],\n",
    "             [re.compile(r'AA'),    r'AR'], \n",
    "             [re.compile(r'SCH'),    r'SH'],\n",
    "             [re.compile(r'BTL'),    r'TL'],\n",
    "             [re.compile(r'GHT'),    r'T'],\n",
    "             [re.compile(r'AUGH'),    r'ARF'],\n",
    "             [re.compile(r'(?<={0})LJ(?={0})'.format(vowel)),    r'LD'], #\n",
    "             [re.compile(r'LOUGH'),    r'LOW'],\n",
    "             [re.compile(r'^Q'),    r'KW'],\n",
    "             [re.compile(r'^KN'),    r'N'],\n",
    "             [re.compile(r'^GN|GN$'),    r'N'],\n",
    "             [re.compile(r'(\\w)GN(?={})'.format(consonant)),    r'N'],\n",
    "             [re.compile(r'GHN'),    r'N'],\n",
    "             [re.compile(r'GNE$'),    r'N'],\n",
    "             [re.compile(r'GHNE'),    r'NE'],\n",
    "             [re.compile(r'GNES$'),    r'NS'],\n",
    "             [re.compile(r'^PS'),    r'S'],\n",
    "             [re.compile(r'^PT'),    r'T'],\n",
    "             [re.compile(r'^CZ'),    r'C'],\n",
    "             [re.compile(r'(?<={})WZ(\\w)'.format(vowel)),    r'Z'],\n",
    "             [re.compile(r'(\\w)CZ(\\w)'),    r'CH'],\n",
    "             [re.compile(r'LZ'),    r'LSH'],\n",
    "             [re.compile(r'RZ'),    r'RSH'],\n",
    "             [re.compile(r'(\\w)Z(?={})'.format(vowel)),    r'S'],\n",
    "             [re.compile(r'ZZ'),    r'TS'],\n",
    "             [re.compile(r'(?<={})Z(\\w)'.format(vowel)),    r'TS'],\n",
    "             [re.compile(r'HROUGH'),    r'[REW]'],\n",
    "             [re.compile(r'OUGH'),    r'OF'],\n",
    "             [re.compile(r'(?<={0})Q(?={0})'.format(vowel)),    r'KW'],\n",
    "             [re.compile(r'(?<={0})J(?={0})'.format(vowel)),    r'Y'],\n",
    "             [re.compile(r'^YJ(?={})'.format(vowel)),    r'Y'],\n",
    "             [re.compile(r'^GH'),    r'G'],\n",
    "             [re.compile(r'($VOVEL)E$'),    r'GH'],\n",
    "             [re.compile(r'^CY'),    r'S'],\n",
    "             [re.compile(r'NX'),    r'NKS'],\n",
    "             [re.compile(r'^PF'),    r'F'],\n",
    "             [re.compile(r'DT$'),    r'T'],\n",
    "             [re.compile(r'([TD])L$'),    r'IL'],\n",
    "             [re.compile(r'YTH'),    r'ITH'],\n",
    "             [re.compile(r'^TS?J(?={})'.format(vowel)),    r'CH'],\n",
    "             [re.compile(r'^TS(?={})'.format(vowel)),    r'T'],\n",
    "             [re.compile(r'TCH'),    r'CH'],\n",
    "             [re.compile(r'(?<={})WSK'.format(vowel)),    r'VSIKE'],\n",
    "             [re.compile(r'^[PM]N(?={})'.format(vowel)),    r'N'],\n",
    "             [re.compile(r'(?<={})STL'.format(vowel)),    r'SL'],\n",
    "             [re.compile(r'TNT$'),    r'ENT'],\n",
    "             [re.compile(r'EAUX$'),    r'OH'],\n",
    "             [re.compile(r'EXCI'),    r'ECS'],\n",
    "             [re.compile(r'X'),    r'ECS'],\n",
    "             [re.compile(r'NED$'),    r'ND'],\n",
    "             [re.compile(r'JR'),    r'DR'],\n",
    "             [re.compile(r'EE$'),    r'EA'], #The is an earlier rule to capture E and change it to GH at the end, so when will this rule ever apply?\n",
    "             [re.compile(r'ZS'),    r'S'],\n",
    "             [re.compile(r'(?<={0})H?R(?={1}|$)'.format(vowel, consonant)),    r'AH'], # combines all R and HR rules\n",
    "             [re.compile(r'[RE]$'),    r'AR'],\n",
    "             [re.compile(r'LLE'),    r'LE'],\n",
    "             [re.compile(r'(?<={})LE(S?)$'.format(consonant)),    r'ILE\\1'],\n",
    "             [re.compile(r'E$'),    r''],\n",
    "             [re.compile(r'ES$'),    r'S'],\n",
    "             [re.compile(r'(?<={})SS'.format(vowel)),    r'AS'],\n",
    "             [re.compile(r'(?<={})MB$'.format(vowel)),    r'M'],\n",
    "             [re.compile(r'MPTS'),    r'MPS'],\n",
    "             [re.compile(r'MPS'),    r'MS'],\n",
    "             [re.compile(r'MPT'),    r'MT'],\n",
    "             [re.compile(r'^{}'.format(vowel)), r'v']] # In phonix if first letter is vowel, change to it 'v'"
   ]
  },
  {
   "cell_type": "code",
   "execution_count": 5,
   "metadata": {
    "collapsed": false
   },
   "outputs": [
    {
     "data": {
      "text/plain": [
       "78"
      ]
     },
     "execution_count": 5,
     "metadata": {},
     "output_type": "execute_result"
    }
   ],
   "source": [
    "len(rules)"
   ]
  },
  {
   "cell_type": "code",
   "execution_count": 16,
   "metadata": {
    "collapsed": false
   },
   "outputs": [],
   "source": [
    "#functions\n",
    "\n",
    "def _encode(name, digits, len=4):\n",
    "    # The encoding step of phonix is the same as the encoding step of\n",
    "    # soundex, except other codes are used.\n",
    "    \n",
    "    # name should be uppercased before calling this function!\n",
    "    \n",
    "    key = ''\n",
    "\n",
    "    # translate alpha chars in name to soundex digits\n",
    "        \n",
    "    ord_A = 65 #No need to call ord everytime\n",
    "    \n",
    "    for c in name[1:]:\n",
    "        if c.isalpha():\n",
    "            print ord(c)-ord_A, c\n",
    "            d = digits[ord(c)-ord_A]\n",
    "            \n",
    "            # duplicate consecutive soundex digits are skipped\n",
    "            if not key or (d != key[-1]):\n",
    "                key += d\n",
    "\n",
    "    # Insert the first character\n",
    "    key = name[0] + key\n",
    "\n",
    "    # remove all 0s from the soundex code\n",
    "    key = key.replace('0','')\n",
    "\n",
    "    # return soundex code padded to len characters\n",
    "    return (key + (len * '0'))[:len]\n",
    "\n",
    "\n",
    "def soundex(name):\n",
    "    return _encode(name.upper(), soundex_digits)\n",
    "\n",
    "\n",
    "def phonix(name):\n",
    "    name = name.upper()\n",
    "    for rule in rules:\n",
    "        #Apply all rules sequentially to name\n",
    "        name = rule[0].sub(rule[1], text)\n",
    "    code = _encode(name, phonix_digits)\n",
    "    \n",
    "    return name, code\n",
    "    "
   ]
  },
  {
   "cell_type": "code",
   "execution_count": 17,
   "metadata": {
    "collapsed": false
   },
   "outputs": [
    {
     "name": "stdout",
     "output_type": "stream",
     "text": [
      "peter 36 e\n"
     ]
    },
    {
     "ename": "IndexError",
     "evalue": "string index out of range",
     "output_type": "error",
     "traceback": [
      "\u001b[1;31m---------------------------------------------------------------------------\u001b[0m",
      "\u001b[1;31mIndexError\u001b[0m                                Traceback (most recent call last)",
      "\u001b[1;32m<ipython-input-17-a209fe0bca9b>\u001b[0m in \u001b[0;36m<module>\u001b[1;34m()\u001b[0m\n\u001b[0;32m      7\u001b[0m \u001b[1;33m\u001b[0m\u001b[0m\n\u001b[0;32m      8\u001b[0m \u001b[1;32mfor\u001b[0m \u001b[0mi\u001b[0m\u001b[1;33m,\u001b[0m \u001b[0mn\u001b[0m \u001b[1;32min\u001b[0m \u001b[0menumerate\u001b[0m\u001b[1;33m(\u001b[0m\u001b[0mtest_names\u001b[0m\u001b[1;33m)\u001b[0m\u001b[1;33m:\u001b[0m\u001b[1;33m\u001b[0m\u001b[0m\n\u001b[1;32m----> 9\u001b[1;33m     \u001b[1;32mprint\u001b[0m \u001b[0mn\u001b[0m\u001b[1;33m,\u001b[0m \u001b[0msoundex\u001b[0m\u001b[1;33m(\u001b[0m\u001b[0mn\u001b[0m\u001b[1;33m)\u001b[0m\u001b[1;33m,\u001b[0m \u001b[0msoundex_codes\u001b[0m\u001b[1;33m[\u001b[0m\u001b[0mi\u001b[0m\u001b[1;33m]\u001b[0m\u001b[1;33m,\u001b[0m \u001b[0mphonix\u001b[0m\u001b[1;33m(\u001b[0m\u001b[0mn\u001b[0m\u001b[1;33m)\u001b[0m\u001b[1;33m,\u001b[0m \u001b[0mphonix_codes\u001b[0m\u001b[1;33m[\u001b[0m\u001b[0mi\u001b[0m\u001b[1;33m]\u001b[0m\u001b[1;33m\u001b[0m\u001b[0m\n\u001b[0m",
      "\u001b[1;32m<ipython-input-16-5b8c84456815>\u001b[0m in \u001b[0;36msoundex\u001b[1;34m(name)\u001b[0m\n\u001b[0;32m     33\u001b[0m \u001b[1;33m\u001b[0m\u001b[0m\n\u001b[0;32m     34\u001b[0m \u001b[1;32mdef\u001b[0m \u001b[0msoundex\u001b[0m\u001b[1;33m(\u001b[0m\u001b[0mname\u001b[0m\u001b[1;33m)\u001b[0m\u001b[1;33m:\u001b[0m\u001b[1;33m\u001b[0m\u001b[0m\n\u001b[1;32m---> 35\u001b[1;33m     \u001b[1;32mreturn\u001b[0m \u001b[0m_encode\u001b[0m\u001b[1;33m(\u001b[0m\u001b[0mname\u001b[0m\u001b[1;33m,\u001b[0m \u001b[0msoundex_digits\u001b[0m\u001b[1;33m)\u001b[0m\u001b[1;33m\u001b[0m\u001b[0m\n\u001b[0m\u001b[0;32m     36\u001b[0m \u001b[1;33m\u001b[0m\u001b[0m\n\u001b[0;32m     37\u001b[0m \u001b[1;33m\u001b[0m\u001b[0m\n",
      "\u001b[1;32m<ipython-input-16-5b8c84456815>\u001b[0m in \u001b[0;36m_encode\u001b[1;34m(name, digits, len)\u001b[0m\n\u001b[0;32m     16\u001b[0m         \u001b[1;32mif\u001b[0m \u001b[0mc\u001b[0m\u001b[1;33m.\u001b[0m\u001b[0misalpha\u001b[0m\u001b[1;33m(\u001b[0m\u001b[1;33m)\u001b[0m\u001b[1;33m:\u001b[0m\u001b[1;33m\u001b[0m\u001b[0m\n\u001b[0;32m     17\u001b[0m             \u001b[1;32mprint\u001b[0m \u001b[0mord\u001b[0m\u001b[1;33m(\u001b[0m\u001b[0mc\u001b[0m\u001b[1;33m)\u001b[0m\u001b[1;33m-\u001b[0m\u001b[0mord_A\u001b[0m\u001b[1;33m,\u001b[0m \u001b[0mc\u001b[0m\u001b[1;33m\u001b[0m\u001b[0m\n\u001b[1;32m---> 18\u001b[1;33m             \u001b[0md\u001b[0m \u001b[1;33m=\u001b[0m \u001b[0mdigits\u001b[0m\u001b[1;33m[\u001b[0m\u001b[0mord\u001b[0m\u001b[1;33m(\u001b[0m\u001b[0mc\u001b[0m\u001b[1;33m)\u001b[0m\u001b[1;33m-\u001b[0m\u001b[0mord_A\u001b[0m\u001b[1;33m]\u001b[0m\u001b[1;33m\u001b[0m\u001b[0m\n\u001b[0m\u001b[0;32m     19\u001b[0m \u001b[1;33m\u001b[0m\u001b[0m\n\u001b[0;32m     20\u001b[0m             \u001b[1;31m# duplicate consecutive soundex digits are skipped\u001b[0m\u001b[1;33m\u001b[0m\u001b[1;33m\u001b[0m\u001b[0m\n",
      "\u001b[1;31mIndexError\u001b[0m: string index out of range"
     ]
    }
   ],
   "source": [
    "# Do some sanity tests\n",
    "# Names and codes taken from \"Data-centric systems and applications\" By Peteer Christensen, Springer 2012\n",
    "\n",
    "test_names = ['peter', 'pete', 'pedro', 'stephen', 'steve', 'smith', 'smythe', 'gail', 'gayle', 'christine', 'christina', 'kristina']\n",
    "soundex_codes = ['p360', 'p300', 'p360', 's315', 's310', 's530', 's530', 'g400', 'g400', 'c623', 'c623', 'k623']\n",
    "phonix_codes = ['p360', 'p300', 'p360', 's315', 's310', 's530', 's530', 'g400', 'g400', 'c623', 'c623', 'k623']\n",
    "\n",
    "for i, n in enumerate(test_names):\n",
    "    print n, soundex(n), soundex_codes[i], phonix(n), phonix_codes[i]"
   ]
  },
  {
   "cell_type": "markdown",
   "metadata": {},
   "source": [
    "## Double Metaphone\n",
    "The Double Metaphone search algorithm as described in [0], using the Python metaphone [library](https://pypi.python.org/pypi/Metaphone/0.4)\n",
    "\n",
    "---\n",
    "\n",
    "0. Philips, Lawrence. \"The double metaphone search algorithm.\" C/C++ users journal 18.6 (2000): 38-43."
   ]
  },
  {
   "cell_type": "code",
   "execution_count": 2,
   "metadata": {
    "collapsed": false
   },
   "outputs": [],
   "source": [
    "from metaphone import doublemetaphone \n",
    "\n",
    "badwords = open('names.csv', 'r').read().split(',')\n",
    "dmp_badwords = [(doublemetaphone(word), word) for word in badwords]"
   ]
  },
  {
   "cell_type": "code",
   "execution_count": null,
   "metadata": {
    "collapsed": true
   },
   "outputs": [],
   "source": [
    "def soundslike(text):\n",
    "    phonetic = doublemetaphone(text)\n",
    "    if phonetic[1] == '':\n",
    "        phonetic = [phonetic[0]]\n",
    "    \n",
    "    print phonetic\n",
    "    for p in phonetic:\n",
    "        for word in dmp_badwords:\n",
    "            if p in word[0]:\n",
    "                print text, \"sounds kinda like\", word[1]\n",
    "                print word[0]"
   ]
  }
 ],
 "metadata": {
  "kernelspec": {
   "display_name": "Python 2",
   "language": "python",
   "name": "python2"
  },
  "language_info": {
   "codemirror_mode": {
    "name": "ipython",
    "version": 2
   },
   "file_extension": ".py",
   "mimetype": "text/x-python",
   "name": "python",
   "nbconvert_exporter": "python",
   "pygments_lexer": "ipython2",
   "version": "2.7.9"
  }
 },
 "nbformat": 4,
 "nbformat_minor": 0
}
