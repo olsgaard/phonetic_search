{
 "cells": [
  {
   "cell_type": "markdown",
   "metadata": {},
   "source": [
    "## Phonix and Soundex Python implementation\n",
    "This is an implementation of the phonix phonetic search algorith [1,2]. This follows the perl[3] and [4] C implementations.\n",
    "\n",
    "Phonix (phonetic indexing) is a technique based on Soundex, but to which\n",
    "'phonetic substitution' has been added as an integral part of both the encoding\n",
    "and the retrieval processes [1]. It is fairly complex, consisting of about 100-160 rules (several rules can be collapsed if they are described using regular expressions. This causes wildly different reports on the number of rules in the litterature)\n",
    "\n",
    "The main jist of the algorithm is that rules based on phonetic spelling are applied to the search and target strings, after which the initial character is saved and all other characters are represented by a numeric value depending on which of 8 groups it belongs to. Finally the 0-group is pruned.\n",
    "\n",
    "Phonix is the same as soundex, only with different groups and a pre-processing step that applies the rules. If we use the soundex groups and skip the pre-processing, we have soundex. Since this can be achieved in about 3 lines of code, I have decided to include soundex here, even though it is widely available.\n",
    "\n",
    "### Outline of phonix algorithm\n",
    "\n",
    "This algorithm maps a string `name` -> string `phonix code`, consisting of 1 letter followed by 3 digits. The algorithm assumes all characters in `name` are Alphabetic.\n",
    "\n",
    "1. Apply ~100 transformations to `name` in order to make spelling more phonetic (see the `rules` list in code).\n",
    "2. Each letter in the alphabet is substituted to with a numerical number according to one fo 8 groups the letter belongs to (see phonix_digits in code).\n",
    "3. Reinstate the first letter with its alphabetic value (Use letter from after transformations are applied)\n",
    "4. If first letter is a vowel or y, change the first letter to 'v'\n",
    "5. Truncate all consecutive numbers and all zeros.\n",
    "6. if `phonix code` is less than 4 characters long, extend it with zeros.\n",
    "\n",
    "**Note** The retrieval process is not implemented\n",
    "\n",
    "---\n",
    "\n",
    "(C) Copyright 2015, Mads Olsgaard, http://olsgaard.dk\n",
    "released under [BDS 3](http://opensource.org/licenses/BSD-3-Clause)\n",
    "\n",
    "---\n",
    "\n",
    "1. Gadd, T. N. “‘Fisching Fore Werds’: Phonetic Retrieval of Written Text in Information Systems.” Program 22, no. 3 (1988): 222–37.\n",
    "2. ———. “PHONIX: The Algorithm.” Program 24, no. 4 (1990): 363–66.\n",
    "3. https://github.com/maros/Text-Phonetic/blob/master/lib/Text/Phonetic/Phonix.pm\n",
    "4. soundex.c in [freeWAIS-sf-2.2.10.tar.gz](https://github.com/walkingintopeople/freeWAIS/raw/master/wais/freeWAIS-sf-2.2/freeWAIS-sf-2.2.10.tar.gz)\n"
   ]
  },
  {
   "cell_type": "code",
   "execution_count": 1,
   "metadata": {
    "collapsed": false
   },
   "outputs": [],
   "source": [
    "import re"
   ]
  },
  {
   "cell_type": "code",
   "execution_count": 2,
   "metadata": {
    "collapsed": false
   },
   "outputs": [],
   "source": [
    "# init variables and rules\n",
    "\n",
    "vowel = '[AEIOU]';\n",
    "consonant = '[BCDFGHJLMNPQRSTVXZXY]';\n",
    "\n",
    "\n",
    "\n",
    "# Define the letter groups\n",
    "\n",
    "                # ABCDEFGHIJKLMNOPQRSTUVWXYZ\n",
    "phonix_digits =  '01230720022455012683070808'\n",
    "soundex_digits = '01230120022455012623010202'\n",
    "\n",
    "\n",
    "\n",
    "# list of transformation/substitution rules\n",
    "#            [pattern, substitution]\n",
    "\n",
    "rules = [    [re.compile(r'[^A-Z]'), r''], #Remove all non-alphabet characters. Note that name should be uppercased before applying rules\n",
    "             \n",
    "             [re.compile(r'DG'),    r'G'],\n",
    "             [re.compile(r'C(?=[OAU])'),    r'K'],  # Covers several rules in soundex.c [CO, CA, CU]\n",
    "             [re.compile(r'C[YI]'),    r'SI'],    # Covers [CY, CI]\n",
    "             [re.compile(r'CE'),    r'SE'],\n",
    "             [re.compile(r'^CL(?={})'.format(vowel) ),    r'KL'],\n",
    "             [re.compile(r'CK'),    r'K'],\n",
    "             [re.compile(r'[GJ]C$'),    r'K'],\n",
    "             [re.compile(r'^CH?R(?={})'.format(vowel)),    r'KR'],\n",
    "             [re.compile(r'^WR'),    r'R'],\n",
    "             [re.compile(r'NC'),    r'NK'],\n",
    "             [re.compile(r'CT'),    r'KT'],\n",
    "             [re.compile(r'PH'),    r'F'],\n",
    "             [re.compile(r'AA'),    r'AR'], \n",
    "             [re.compile(r'SCH'),    r'SH'],\n",
    "             [re.compile(r'BTL'),    r'TL'],\n",
    "             [re.compile(r'GHT'),    r'T'],\n",
    "             [re.compile(r'AUGH'),    r'ARF'],\n",
    "             [re.compile(r'(?<={0})LJ(?={0})'.format(vowel)),    r'LD'], #\n",
    "             [re.compile(r'LOUGH'),    r'LOW'],\n",
    "             [re.compile(r'^Q'),    r'KW'],\n",
    "             [re.compile(r'^KN'),    r'N'],\n",
    "             [re.compile(r'GN$'),    r'N'],\n",
    "             [re.compile(r'GHN'),    r'N'],\n",
    "             [re.compile(r'GNE$'),   r'N'],\n",
    "             [re.compile(r'GHNE'),   r'NE'],\n",
    "             [re.compile(r'GNES$'),  r'NS'],\n",
    "             [re.compile(r'^GN'),    r'N'],\n",
    "             [re.compile(r'(?<=\\w)GN(?={})'.format(consonant)),    r'N'],\n",
    "             [re.compile(r'^PS'),    r'S'],\n",
    "             [re.compile(r'^PT'),    r'T'],\n",
    "             [re.compile(r'^CZ'),    r'C'],\n",
    "             [re.compile(r'(?<={})WZ(?=\\w)'.format(vowel)),    r'Z'],\n",
    "             [re.compile(r'(?<=\\w)CZ(?=\\w)'),    r'CH'],\n",
    "             [re.compile(r'LZ'),    r'LSH'],\n",
    "             [re.compile(r'RZ'),    r'RSH'],\n",
    "             [re.compile(r'(?<=\\w)Z(?={})'.format(vowel)),    r'S'],\n",
    "             [re.compile(r'ZZ'),    r'TS'],\n",
    "             [re.compile(r'(?<={})Z(?=\\w)'.format(consonant)),    r'TS'],\n",
    "             [re.compile(r'HROUGH'),    r'[REW]'],\n",
    "             [re.compile(r'OUGH'),    r'OF'],\n",
    "             [re.compile(r'(?<={0})Q(?={0})'.format(vowel)),    r'KW'],\n",
    "             [re.compile(r'(?<={0})J(?={0})'.format(vowel)),    r'Y'],\n",
    "             [re.compile(r'^YJ(?={})'.format(vowel)),    r'Y'],\n",
    "             [re.compile(r'^GH'),    r'G'],\n",
    "             [re.compile(r'(?<={})GH$'.format(vowel),    r'E'],\n",
    "             [re.compile(r'^CY'),    r'S'],\n",
    "             [re.compile(r'NX'),    r'NKS'],\n",
    "             [re.compile(r'^PF'),    r'F'],\n",
    "             [re.compile(r'DT$'),    r'T'],\n",
    "             [re.compile(r'(?<=[TD])L$'),    r'IL'], # Combines the TL and DL rules\n",
    "             [re.compile(r'YTH'),    r'ITH'],\n",
    "             [re.compile(r'^TS?J(?={})'.format(vowel)),    r'CH'], #combines the TJ and TSJ rules\n",
    "             [re.compile(r'^TS(?={})'.format(vowel)),    r'T'],\n",
    "             [re.compile(r'TCH'),    r'CHE'],\n",
    "             [re.compile(r'(?<={})WSK'.format(vowel)),    r'VSIKE'],\n",
    "             [re.compile(r'^[PM]N(?={})'.format(vowel)),    r'N'],\n",
    "             [re.compile(r'(?<={})STL'.format(vowel)),    r'SL'],\n",
    "             [re.compile(r'TNT$'),    r'ENT'],\n",
    "             [re.compile(r'EAUX$'),    r'OH'],\n",
    "             [re.compile(r'EXCI'),    r'ECS'],\n",
    "             [re.compile(r'X'),    r'ECS'],\n",
    "             [re.compile(r'NED$'),    r'ND'],\n",
    "             [re.compile(r'JR'),    r'DR'],\n",
    "             [re.compile(r'EE$'),    r'EA'],\n",
    "             [re.compile(r'ZS'),    r'S'],\n",
    "             [re.compile(r'(?<={0})H?R(?={1})'.format(vowel, consonant)),    r'AH'], # combines R and HR rule\n",
    "             [re.compile(r'(?<={})HR$'.format(vowel)),    r'AH'], \n",
    "             [re.compile(r'RE$'),    r'AR'],\n",
    "             [re.compile(r'(?<={})R$'.format(vowel)),    r'AH'],\n",
    "             [re.compile(r'LLE'),    r'LE'],\n",
    "             [re.compile(r'(?<={})LE(S?)$'.format(consonant)),    r'ILE\\1'], #combines LE and LES rules\n",
    "             [re.compile(r'E$'),    r''],\n",
    "             [re.compile(r'ES$'),    r'S'],\n",
    "             [re.compile(r'(?<={})SS$'.format(vowel)),    r'AS'],\n",
    "             [re.compile(r'(?<={})MB$'.format(vowel)),    r'M'],\n",
    "             [re.compile(r'MPTS'),    r'MPS'], #Why not just change to MS, if the next rule will do it anyway?\n",
    "             [re.compile(r'MPS'),    r'MS'],\n",
    "             [re.compile(r'MPT'),    r'MT'],\n",
    "             [re.compile(r'ES$'),    r'S'], #step d in algorithm. Does not affect earlier steps\n",
    "             [re.compile(r'({})$'.format(vowel)),    r'\\1E'] #Step e in algorithm. Does not affect earlier steps\n",
    "        ]"
   ]
  },
  {
   "cell_type": "code",
   "execution_count": 3,
   "metadata": {
    "collapsed": false
   },
   "outputs": [],
   "source": [
    "#functions\n",
    "\n",
    "def _encode(name, digits, len=4):\n",
    "    # The encoding step of phonix is the same as the encoding step of\n",
    "    # soundex, except other codes are used.\n",
    "    \n",
    "    # name should be uppercased before calling this function!\n",
    "    \n",
    "    key = ''\n",
    "\n",
    "    # translate alpha chars in name to soundex digits\n",
    "        \n",
    "    ord_A = 65 #No need to call ord everytime\n",
    "    \n",
    "    for c in name[1:]:\n",
    "        if c.isalpha():\n",
    "            d = digits[ord(c)-ord_A]\n",
    "            \n",
    "            # duplicate consecutive soundex digits are skipped\n",
    "            if not key or (d != key[-1]):\n",
    "                key += d\n",
    "\n",
    "    # Insert the first character\n",
    "    key = name[0] + key\n",
    "\n",
    "    # remove all 0s from the soundex code\n",
    "    key = key.replace('0','')\n",
    "\n",
    "    # return soundex code padded to len characters\n",
    "    return (key + (len * '0'))[:len]\n",
    "\n",
    "\n",
    "def soundex(name):\n",
    "    return _encode(name.upper(), soundex_digits)\n",
    "\n",
    "\n",
    "def phonix(name):\n",
    "    name = name.upper()\n",
    "    for rule in rules:\n",
    "        #Apply all rules sequentially to name\n",
    "        name = rule[0].sub(rule[1], name)\n",
    "    code = _encode(name, phonix_digits)\n",
    "    \n",
    "    return name, code\n",
    "    "
   ]
  },
  {
   "cell_type": "code",
   "execution_count": 4,
   "metadata": {
    "collapsed": false
   },
   "outputs": [
    {
     "name": "stdout",
     "output_type": "stream",
     "text": [
      "Name, \t soundex_code, \ttrue, \tphonix,    phonix code,\ttrue\n",
      "\n",
      "peter    \tP360\tp360\tPETEAH     \tP300\tp300\n",
      "pete    \tP300\tp300\tPET     \tP300\tp300\n",
      "pedro    \tP360\tp360\tPEDRO     \tP360\tp360\n",
      "stephen    \tS315\ts315\tSTEFEN     \tS375\ts375\n",
      "steve    \tS310\ts310\tSTEV     \tS370\ts370\n",
      "smith    \tS530\ts530\tSMITH     \tS530\ts530\n",
      "smythe    \tS530\ts530\tSMITH     \tS530\ts530\n",
      "gail    \tG400\tg400\tGAIL     \tG400\tg400\n",
      "gayle    \tG400\tg400\tGAYIL     \tG400\tg400\n",
      "christine    \tC623\tc623\tKRISTIN     \tK683\tc683\n",
      "christina    \tC623\tc623\tKRISTINA     \tK683\tc683\n",
      "kristina    \tK623\tk623\tKRISTINA     \tK683\tk683\n"
     ]
    }
   ],
   "source": [
    "# Do some sanity tests\n",
    "# Names and codes taken from \"Data-centric systems and applications\" By Peteer Christensen, Springer 2012\n",
    "\n",
    "test_names = ['peter', 'pete', 'pedro', 'stephen', 'steve', 'smith', 'smythe', 'gail', 'gayle', 'christine', \n",
    "              'christina', 'kristina']\n",
    "soundex_codes = ['p360', 'p300', 'p360', 's315', 's310', 's530', 's530', 'g400', 'g400', 'c623', 'c623', \n",
    "                 'k623']\n",
    "phonix_codes = ['p300', 'p300', 'p360', 's375', 's370', 's530', 's530', 'g400', 'g400', 'c683', 'c683', \n",
    "                'k683']\n",
    "\n",
    "print 'Name, \\t soundex_code, \\ttrue, \\tphonix,    phonix code,\\ttrue\\n'\n",
    "for i, n in enumerate(test_names):\n",
    "    p = phonix(n)\n",
    "    print '\\t'.join([n+'    ', soundex(n), soundex_codes[i], p[0]+'     ', p[1], phonix_codes[i]])"
   ]
  },
  {
   "cell_type": "code",
   "execution_count": 35,
   "metadata": {
    "collapsed": false
   },
   "outputs": [
    {
     "name": "stdout",
     "output_type": "stream",
     "text": [
      "Name, \t soundex_code, \ttrue, \tphonix,    phonix code,\ttrue\n",
      "\n",
      "Knight    \tK523\tK523\tNIT     \tN300\tN53\n",
      "Night    \tN230\tN230\tNIT     \tN300\tN53\n",
      "Nite    \tN300\tN300\tNIT     \tN300\tN53\n",
      "Write    \tW630\tW630\tRIT     \tR300\tR63\n",
      "Wright    \tW623\tW623\tRIT     \tR300\tR63\n",
      "Rite    \tR300\tR300\tRIT     \tR300\tR63\n",
      "White    \tW300\tW300\tWHIT     \tW300\tW3\n",
      "Weight    \tW230\tW230\tWEIT     \tW300\tW3\n",
      "Yaeger    \tY260\tY230\tYAEGEAH     \tY200\tv2\n",
      "Yoga    \tY200\tY800\tYOGA     \tY200\tv2\n",
      "Eager    \tE260\tE230\tvAGEAH     \tv200\tv2\n",
      "Auger    \tA260\tA230\tvUGEAH     \tv200\tv2\n"
     ]
    }
   ],
   "source": [
    "test_names = ['Knight', 'Night', 'Nite', 'Write', 'Wright', 'Rite', 'White', 'Weight', \n",
    "              'Yaeger', 'Yoga', 'Eager', 'Auger']\n",
    "soundex_codes = ['K523', 'N230', 'N300', 'W630', 'W623', 'R300', 'W300', 'W230',\n",
    "                 'Y230', 'Y800', 'E230', 'A230']\n",
    "phonix_codes = ['N53','N53','N53', 'R63', 'R63', 'R63', 'W3','W3',\n",
    "                'v2', 'v2', 'v2', 'v2']\n",
    "\n",
    "print 'Name, \\t soundex_code, \\ttrue, \\tphonix,    phonix code,\\ttrue\\n'\n",
    "for i, n in enumerate(test_names):\n",
    "    p = phonix(n)\n",
    "    print '\\t'.join([n+'    ', soundex(n), soundex_codes[i], p[0]+'     ', p[1], phonix_codes[i]])"
   ]
  },
  {
   "cell_type": "code",
   "execution_count": 36,
   "metadata": {
    "collapsed": false
   },
   "outputs": [
    {
     "data": {
      "text/plain": [
       "('vSGEAH', 'v820')"
      ]
     },
     "execution_count": 36,
     "metadata": {},
     "output_type": "execute_result"
    }
   ],
   "source": [
    "phonix('Asger')"
   ]
  },
  {
   "cell_type": "code",
   "execution_count": null,
   "metadata": {
    "collapsed": true
   },
   "outputs": [],
   "source": []
  }
 ],
 "metadata": {
  "kernelspec": {
   "display_name": "Python 2",
   "language": "python",
   "name": "python2"
  },
  "language_info": {
   "codemirror_mode": {
    "name": "ipython",
    "version": 2
   },
   "file_extension": ".py",
   "mimetype": "text/x-python",
   "name": "python",
   "nbconvert_exporter": "python",
   "pygments_lexer": "ipython2",
   "version": "2.7.9"
  }
 },
 "nbformat": 4,
 "nbformat_minor": 0
}
