{
 "cells": [
  {
   "cell_type": "markdown",
   "metadata": {},
   "source": [
    "## Double Metaphone\n",
    "The Double Metaphone search algorithm as described in [0], using the Python metaphone [library](https://pypi.python.org/pypi/Metaphone/0.4)\n",
    "\n",
    "---\n",
    "\n",
    "0. Philips, Lawrence. \"The double metaphone search algorithm.\" C/C++ users journal 18.6 (2000): 38-43."
   ]
  },
  {
   "cell_type": "code",
   "execution_count": 1,
   "metadata": {
    "collapsed": true
   },
   "outputs": [],
   "source": [
    "from metaphone import doublemetaphone \n",
    "\n",
    "badwords = open('names.csv', 'r').read().split(',')\n",
    "dmp_badwords = [(doublemetaphone(word), word) for word in badwords]"
   ]
  },
  {
   "cell_type": "code",
   "execution_count": 1,
   "metadata": {
    "collapsed": true
   },
   "outputs": [],
   "source": [
    "def soundslike(text):\n",
    "    phonetic = doublemetaphone(text)\n",
    "    if phonetic[1] == '':\n",
    "        phonetic = [phonetic[0]]\n",
    "    \n",
    "    print phonetic\n",
    "    for p in phonetic:\n",
    "        for word in dmp_badwords:\n",
    "            if p in word[0]:\n",
    "                print text, \"sounds kinda like\", word[1]\n",
    "                print word[0]"
   ]
  },
  {
   "cell_type": "code",
   "execution_count": null,
   "metadata": {
    "collapsed": true
   },
   "outputs": [],
   "source": []
  }
 ],
 "metadata": {
  "kernelspec": {
   "display_name": "Python 2",
   "language": "python",
   "name": "python2"
  },
  "language_info": {
   "codemirror_mode": {
    "name": "ipython",
    "version": 2
   },
   "file_extension": ".py",
   "mimetype": "text/x-python",
   "name": "python",
   "nbconvert_exporter": "python",
   "pygments_lexer": "ipython2",
   "version": "2.7.11"
  }
 },
 "nbformat": 4,
 "nbformat_minor": 0
}
